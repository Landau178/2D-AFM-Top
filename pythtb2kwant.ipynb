{
 "cells": [
  {
   "cell_type": "markdown",
   "metadata": {},
   "source": [
    "# Comparing Hamiltonian with Nayra"
   ]
  },
  {
   "cell_type": "code",
   "execution_count": null,
   "metadata": {},
   "outputs": [],
   "source": [
    "%matplotlib notebook\n",
    "\n",
    "import pathlib\n",
    "from scipy import interpolate as interp\n",
    "import pythtb as pytb\n",
    "import scipy.linalg as la\n",
    "\n",
    "import sim_tb as stb\n",
    "import bz_utilities as bzu\n",
    "import toy_models as toy\n",
    "import plot_utils as pltu\n",
    "import linear_response as lr"
   ]
  },
  {
   "cell_type": "code",
   "execution_count": null,
   "metadata": {},
   "outputs": [],
   "source": [
    "def reorder_matrix(H):\n",
    "    \"\"\"\n",
    "    Take a (norb, 2, norb, 2) matrix and returns\n",
    "    a (2*norb, 2*norb) matrix. Following convention:\n",
    "    [orb1_up, orb1_down, orb2_up, orb2_down, ....]\n",
    "    \"\"\"\n",
    "    norb = np.shape(H)[0]\n",
    "    new_H = np.zeros((2*norb, 2*norb), dtype=\"complex\")\n",
    "    t_arr = [np.array([0,0]),\n",
    "            np.array([0.5, 0]),\n",
    "            np.array([0, 0.5])]\n",
    "    for i1 in range(norb):\n",
    "        for i2 in range(norb):\n",
    "            for s1 in range(2):\n",
    "                for s2 in range(2):\n",
    "                    n1 = 2 * i1 + s1\n",
    "                    n2 = 2 * i2 + s2\n",
    "                    delta_t = t_arr[i1] - t_arr[i2]\n",
    "                    #exp = np.exp(2j * np.pi*kpt@delta_t)\n",
    "                    h = H[i1, s1, i2, s2]\n",
    "                    new_H[n1, n2] = h\n",
    "    return new_H\n",
    "\n",
    "def reorder_v_operator(v, H, kpt):\n",
    "    \"\"\"\n",
    "    \"\"\"\n",
    "    norb = np.shape(H)[0]\n",
    "    new_v = np.zeros((2, 2*norb, 2*norb), dtype=\"complex\")\n",
    "    t_arr = [np.array([0,0]),\n",
    "            np.array([0.5, 0]),\n",
    "            np.array([0, 0.5])]\n",
    "    a1 = np.array([1,0])\n",
    "    a2 = np.array([0.5, 0.5*np.sqrt(3)])\n",
    "    for i1 in range(norb):\n",
    "        for i2 in range(norb):\n",
    "            for s1 in range(2):\n",
    "                for s2 in range(2):\n",
    "                    n1 = 2 * i1 + s1\n",
    "                    n2 = 2 * i2 + s2\n",
    "                    delta_t = t_arr[i1] - t_arr[i2]\n",
    "                    delta_t_re = delta_t[0]*a1 + delta_t[1]*a2\n",
    "                    exp = np.exp(2j * np.pi*kpt@delta_t)\n",
    "                    h = H[i1, s1, i2, s2]\n",
    "                    vx = v[0, i1,s1, i2, s2]\n",
    "                    vy = v[1, i1,s1, i2, s2]\n",
    "                    new_v[0, n1, n2] = vx * exp + 1j*h * exp * delta_t_re[0]\n",
    "                    new_v[1, n1, n2] = vy * exp + 1j*h * exp * delta_t_re[1]\n",
    "    return new_v\n",
    "                    \n",
    "    \n",
    "\n",
    "# Defining simulations without/with SOC and K-points\n",
    "\n",
    "t, J, t2 = 1.0, 1.7, 0.2\n",
    "mag_mode = \"coplanar\"\n",
    "path = toy.init_kagome_model(t, J, t2, mag_mode)\n",
    "Sim = stb.Simulation_TB(path)\n",
    "t, J, t2 = 1.0, 1.7, 0.0\n",
    "path = toy.init_kagome_model(t, J, t2, mag_mode)\n",
    "Sim0 = stb.Simulation_TB(path)\n",
    "    \n",
    "M = bzu.cartesian_to_reduced_k_matrix(Sim0.rlat[0], Sim0.rlat[1])\n",
    "K = M @ np.array([2.094, 3.63])\n",
    "Kp = M @ np.array([-2.94, 3.63])\n",
    "PR = M @ np.array([0.23, 1.87])\n",
    "G = np.array([0,0])\n",
    "\n",
    "points = {\"K\":K, \"Kp\":Kp, \"PR\":PR,\"G\":G}\n",
    "\n",
    "folder = toy.ROOT_DIR  + \"H_components/\"\n",
    "toy.mk_dir(folder)"
   ]
  },
  {
   "cell_type": "code",
   "execution_count": null,
   "metadata": {},
   "outputs": [],
   "source": [
    "for mode in [\"no_soc\", \"soc\"]:\n",
    "    for point in [\"K\", \"Kp\", \"PR\", \"G\"]:\n",
    "        cSim = {\"no_soc\":Sim0, \"soc\": Sim}[mode]\n",
    "        kpt = points[point]\n",
    "        name = \"H_{}_{}.npy\".format(mode,point)\n",
    "        name_v = \"velocity_{}_{}.npy\".format(mode,point)\n",
    "        H0 = cSim.model._gen_ham(k_input=kpt)\n",
    "        v0 = cSim.velocity_operator(kpt)\n",
    "        H = reorder_matrix(H0, kpt)\n",
    "        v = reorder_v_operator(v0, H0, kpt)\n",
    "        np.save(folder+name, H)\n",
    "        np.save(folder+name_v, v)"
   ]
  },
  {
   "cell_type": "code",
   "execution_count": null,
   "metadata": {},
   "outputs": [],
   "source": [
    "mode = \"soc\"\n",
    "cSim = {\"no_soc\":Sim0, \"soc\": Sim}[mode]\n",
    "kpt = points[\"PR\"]\n",
    "Hk_ = cSim.model._gen_ham(k_input=kpt)\n",
    "Hk = reorder_matrix(Hk_)\n",
    "Berry_k = cSim.berry_curvature(kpt[0], kpt[1], 0, 0, 1, mode=\"re\")\n",
    "Berry_k"
   ]
  }
 ],
 "metadata": {
  "kernelspec": {
   "display_name": "Python 3",
   "language": "python",
   "name": "python3"
  },
  "language_info": {
   "codemirror_mode": {
    "name": "ipython",
    "version": 3
   },
   "file_extension": ".py",
   "mimetype": "text/x-python",
   "name": "python",
   "nbconvert_exporter": "python",
   "pygments_lexer": "ipython3",
   "version": "3.6.5"
  },
  "latex_envs": {
   "LaTeX_envs_menu_present": true,
   "autoclose": false,
   "autocomplete": true,
   "bibliofile": "biblio.bib",
   "cite_by": "apalike",
   "current_citInitial": 1,
   "eqLabelWithNumbers": true,
   "eqNumInitial": 1,
   "hotkeys": {
    "equation": "Ctrl-E",
    "itemize": "Ctrl-I"
   },
   "labels_anchors": false,
   "latex_user_defs": false,
   "report_style_numbering": false,
   "user_envs_cfg": false
  }
 },
 "nbformat": 4,
 "nbformat_minor": 2
}
